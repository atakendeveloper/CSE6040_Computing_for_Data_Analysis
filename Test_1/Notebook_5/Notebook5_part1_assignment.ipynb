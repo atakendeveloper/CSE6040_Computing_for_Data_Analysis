{
 "cells": [
  {
   "cell_type": "markdown",
   "metadata": {
    "deletable": false,
    "editable": false,
    "nbgrader": {
     "grade": false,
     "grade_id": "cell-81740ad10bcffdd8",
     "locked": true,
     "schema_version": 1,
     "solution": false
    }
   },
   "source": [
    "# Part 1 of 2: Processing an HTML file\n",
    "\n",
    "One of the richest sources of information is [the Web](http://www.computerhistory.org/revolution/networking/19/314)! In this notebook, we ask you to use string processing and regular expressions to mine a web page, which is stored in HTML format.\n",
    "\n",
    "> **Note 0.** The exercises below involve processing of HTML files. However, you don't need to know anything specific about HTML; you can solve (and we have solved) all of these exercises assuming only that the data is a semi-structured string, amenable to simple string manipulation and regular expression processing techniques. In Notebook 6 (optional), you'll see a different method that employs the [Beautiful Soup module](https://www.crummy.com/software/BeautifulSoup/bs4/doc/).\n",
    ">\n",
    "> **Note 1.** Following Note 0, there are some outspoken people who believe you should never use regular expressions on HTML. Your instructor finds these arguments to be overly pedantic. For an entertaining take on the subject, see [this blog post](https://blog.codinghorror.com/parsing-html-the-cthulhu-way/).\n",
    ">\n",
    "> **Note 2.** The data below is a snapshot from an older version of the Yelp! site. Therefore, you should complete the exercises using the data we've provided, rather than downloading a copy directly from Yelp!."
   ]
  },
  {
   "cell_type": "markdown",
   "metadata": {
    "deletable": false,
    "editable": false,
    "nbgrader": {
     "grade": false,
     "grade_id": "cell-e1821fbeefa0e2c2",
     "locked": true,
     "schema_version": 1,
     "solution": false
    }
   },
   "source": [
    "**The data: Yelp! reviews.** The data you will work with is a snapshot of a recent search on the [Yelp! site](https://yelp.com) for the best fried chicken restaurants in Atlanta. That snapshot is hosted here: https://cse6040.gatech.edu/datasets/yelp-example\n",
    "\n",
    "If you go ahead and open that site, you'll see that it contains a ranked list of places:\n",
    "\n",
    "![Top 10 Fried Chicken Spots in ATL as of September 12, 2017](https://cse6040.gatech.edu/datasets/yelp-example/ranked-list-snapshot.png)"
   ]
  },
  {
   "cell_type": "markdown",
   "metadata": {
    "deletable": false,
    "editable": false,
    "nbgrader": {
     "grade": false,
     "grade_id": "cell-fe765896f1d25066",
     "locked": true,
     "schema_version": 1,
     "solution": false
    }
   },
   "source": [
    "**Your task.** In this part of this assignment, we'd like you to write some code to extract this list."
   ]
  },
  {
   "cell_type": "markdown",
   "metadata": {
    "deletable": false,
    "editable": false,
    "nbgrader": {
     "grade": false,
     "grade_id": "cell-95c9a0ef4d1838e1",
     "locked": true,
     "schema_version": 1,
     "solution": false
    }
   },
   "source": [
    "## Getting the data\n",
    "\n",
    "First things first: you need an HTML file. The following Python code opens a copy of the sample Yelp! page from above."
   ]
  },
  {
   "cell_type": "code",
   "execution_count": 126,
   "metadata": {
    "nbgrader": {
     "grade": false,
     "grade_id": "cell-af1ae6df64a1fd40",
     "locked": false,
     "schema_version": 1,
     "solution": false
    }
   },
   "outputs": [
    {
     "name": "stdout",
     "output_type": "stream",
     "text": [
      "'yelp.htm' is ready!\n"
     ]
    }
   ],
   "source": [
    "import hashlib\n",
    "import re\n",
    "\n",
    "with open('yelp.htm', 'r', encoding='utf-8') as f:\n",
    "    yelp_html = f.read().encode(encoding='utf-8')\n",
    "    checksum = hashlib.md5(yelp_html).hexdigest()\n",
    "    assert checksum == \"4a74a0ee9cefee773e76a22a52d45a8e\", \"Downloaded file has incorrect checksum!\"\n",
    "    \n",
    "print(\"'yelp.htm' is ready!\")"
   ]
  },
  {
   "cell_type": "markdown",
   "metadata": {
    "deletable": false,
    "editable": false,
    "nbgrader": {
     "grade": false,
     "grade_id": "cell-afee39f0b7aee426",
     "locked": true,
     "schema_version": 1,
     "solution": false
    }
   },
   "source": [
    "**Viewing the raw HTML in your web browser.** The file you just downloaded is the raw HTML version of the data described previously. Before moving on, you should go back to that site and use your web browser to view the HTML source for the web page. Do that now to get an idea of what is in that file.\n",
    "\n",
    "> If you don't know how to view the page source in your browser, try the instructions on [this site](http://www.wikihow.com/View-Source-Code)."
   ]
  },
  {
   "cell_type": "markdown",
   "metadata": {
    "deletable": false,
    "editable": false,
    "nbgrader": {
     "grade": false,
     "grade_id": "cell-993d633285178cf8",
     "locked": true,
     "schema_version": 1,
     "solution": false
    }
   },
   "source": [
    "**Reading the HTML file into a Python string.** Let's also open the file in Python and read its contents into a string named, `yelp_html`."
   ]
  },
  {
   "cell_type": "code",
   "execution_count": 127,
   "metadata": {},
   "outputs": [
    {
     "name": "stdout",
     "output_type": "stream",
     "text": [
      "*** type(yelp_html) == <class 'str'> ***\n",
      "*** Contents (first 1000 characters) ***\n",
      "<!DOCTYPE html>\n",
      "<!-- saved from url=(0079)https://www.yelp.com/search?find_desc=fried+chicken&find_loc=Atlanta%2C+GA&ns=1 -->\n",
      "<html xmlns:fb=\"http://www.facebook.com/2008/fbml\" class=\"js gr__yelp_com\" lang=\"en\"><!--<![endif]--><head data-component-bound=\"true\"><meta http-equiv=\"Content-Type\" content=\"text/html; charset=UTF-8\"><link type=\"text/css\" rel=\"stylesheet\" href=\"./Best Fried chicken in Atlanta, GA - Yelp_files/css\"><style type=\"text/css\">.gm-style .gm-style-cc span,.gm-style .gm-style-cc a,.gm-style .gm-style-mtc div{font-size:10px}\n",
      "</style><style type=\"text/css\">@media print {  .gm-style .gmnoprint, .gmnoprint {    display:none  }}@media screen {  .gm-style .gmnoscreen, .gmnoscreen {    display:none  }}</style><style type=\"text/css\">.gm-style-pbc{transition:opacity ease-in-out;background-color:rgba(0,0,0,0.45);text-align:center}.gm-style-pbt{font-size:22px;color:white;font-family:Roboto,Arial,sans-serif;position:relative;margin:0;top:50%;-webkit-transform:translateY(-50%);-ms- ...\n"
     ]
    }
   ],
   "source": [
    "with open('yelp.htm', 'r', encoding='utf-8') as yelp_file:\n",
    "    yelp_html = yelp_file.read()\n",
    "    \n",
    "# Print first few hundred characters of this string:\n",
    "print(\"*** type(yelp_html) == {} ***\".format(type(yelp_html)))\n",
    "n = 1000\n",
    "print(\"*** Contents (first {} characters) ***\\n{} ...\".format(n, yelp_html[:n]))"
   ]
  },
  {
   "cell_type": "markdown",
   "metadata": {
    "deletable": false,
    "editable": false,
    "nbgrader": {
     "grade": false,
     "grade_id": "cell-02895e5c5a7d18be",
     "locked": true,
     "schema_version": 1,
     "solution": false
    }
   },
   "source": [
    "Oy, what a mess! It will be great to have some code read and process the information contained within this file."
   ]
  },
  {
   "cell_type": "markdown",
   "metadata": {
    "deletable": false,
    "editable": false,
    "nbgrader": {
     "grade": false,
     "grade_id": "cell-6481539b4054dbde",
     "locked": true,
     "schema_version": 1,
     "solution": false
    }
   },
   "source": [
    "## Exercise (5 points): Extracting the ranking\n",
    "\n",
    "Write some Python code to create a variable named `rankings`, which is a list of dictionaries set up as follows:\n",
    "\n",
    "* `rankings[i]` is a dictionary corresponding to the restaurant whose rank is `i+1`. For example, from the screenshot above, `rankings[0]` should be a dictionary with information about Gus's World Famous Fried Chicken.\n",
    "* Each dictionary, `rankings[i]`, should have these keys:\n",
    "    * `rankings[i]['name']`: The name of the restaurant, a string.\n",
    "    * `rankings[i]['stars']`: The star rating, as a string, e.g., `'4.5'`, `'4.0'`\n",
    "    * `rankings[i]['numrevs']`: The number of reviews, as an **integer.**\n",
    "    * `rankings[i]['price']`: The price range, as dollar signs, e.g., `'$'`, `'$$'`, `'$$$'`, or `'$$$$'`.\n",
    "    \n",
    "Of course, since the current topic is regular expressions, you might try to apply them (possibly combined with other string manipulation methods) find the particular patterns that yield the desired information."
   ]
  },
  {
   "cell_type": "markdown",
   "metadata": {
    "collapsed": true
   },
   "source": []
  },
  {
   "cell_type": "code",
   "execution_count": 291,
   "metadata": {},
   "outputs": [
    {
     "data": {
      "text/plain": [
       "[549, 1777, 2241, 481, 108, 93, 350, 248, 1558, 67, 288]"
      ]
     },
     "execution_count": 291,
     "metadata": {},
     "output_type": "execute_result"
    }
   ],
   "source": [
    "###creating reviews list\n",
    "import re\n",
    "string = yelp_html\n",
    "regex_1 = '\\d+\\s{1}reviews'\n",
    "regex_2 = '\\d+'\n",
    "match_1 = re.findall(regex_1, string)\n",
    "reviews_final_list = []\n",
    "for item in match_1[2:len(match_1)]:\n",
    "    match_2 = re.findall(regex_2, item)\n",
    "    match_0 = match_2[0]\n",
    "    match_int = int(match_0)\n",
    "    reviews_final_list.append(match_int)\n",
    "#print(match_test)\n",
    "reviews_final_list"
   ]
  },
  {
   "cell_type": "code",
   "execution_count": null,
   "metadata": {},
   "outputs": [],
   "source": []
  },
  {
   "cell_type": "code",
   "execution_count": 292,
   "metadata": {},
   "outputs": [
    {
     "name": "stdout",
     "output_type": "stream",
     "text": [
      "['Gus’s World Famous Fried Chicken', 'South City Kitchen - Midtown', 'Mary Mac’s Tea Room', 'Busy Bee Cafe', 'Richards’ Southern Fried', 'Greens & Gravy', 'Colonnade Restaurant', 'South City Kitchen Buckhead', 'Poor Calvin’s', 'Rock’s Chicken & Fries', 'Copeland’s']\n"
     ]
    }
   ],
   "source": [
    "#creating list of names\n",
    "import re\n",
    "\n",
    "string = yelp_html\n",
    "regex_1 = \"<span>.*</span></a>\"\n",
    "match_1 = re.findall(regex_1, string)\n",
    "\n",
    "i = 2\n",
    "names_final_list = []\n",
    "while i < len(match_1):\n",
    "    match_1_replace =  match_1[i].replace('<span>','').replace('</span></a>','')\n",
    "    names_final_list.append(match_1_replace)\n",
    "    i+=1\n",
    "\n",
    "#print(names_final_list)\n",
    "new_name = names_final_list[5].replace('&amp;', '&')\n",
    "new_name_2 = names_final_list[9].replace('&amp;', '&')\n",
    "#print(new_name)\n",
    "names_final_list[5] = new_name\n",
    "names_final_list[9] = new_name_2\n",
    "print(names_final_list)\n"
   ]
  },
  {
   "cell_type": "code",
   "execution_count": 293,
   "metadata": {},
   "outputs": [
    {
     "name": "stdout",
     "output_type": "stream",
     "text": [
      "<span>Gus’s World Famous Fried Chicken</span>\n",
      "Gus’s World Famous Fried Chicken\n"
     ]
    }
   ],
   "source": [
    "testing = \"<span>Gus’s World Famous Fried Chicken</span>\"\n",
    "regex_testing = \"<span>.*\"\n",
    "match_testing = re.findall(regex_testing, testing)\n",
    "match_replace = match_testing[0].replace('<span>','').replace('</span>','')\n",
    "print(match_testing[0])\n",
    "print(match_replace)"
   ]
  },
  {
   "cell_type": "code",
   "execution_count": 294,
   "metadata": {},
   "outputs": [
    {
     "data": {
      "text/plain": [
       "['4.0', '4.5', '4.0', '4.0', '4.0', '3.5', '4.0', '4.5', '4.5', '4.0', '3.5']"
      ]
     },
     "execution_count": 294,
     "metadata": {},
     "output_type": "execute_result"
    }
   ],
   "source": [
    "#creating list of stars\n",
    "import re\n",
    "\n",
    "#string = '''<div class=\"i-stars i-stars--regular-4 rating-large\" title=\"4.0 star rating\">\"'''\n",
    "string = yelp_html\n",
    "regex_1 = \"i-stars i-stars--regular.*\"\n",
    "regex_2 = \"\\d{1}.\\d{1}\"\n",
    "string_2 = 'i-stars i-stars--regular-4 rating-large\" title=\"4.0 star rating\">'\n",
    "match_1 = re.findall(regex_1, string)\n",
    "match_2 = re.findall(regex_2, string_2)\n",
    "\n",
    "#print(match_1b)\n",
    "#print(match_1)\n",
    "#print(match_2)\n",
    "stars_final_list = []\n",
    "for item in match_1[2:len(match_1)]:\n",
    "    match_2 = re.findall(regex_2, item)\n",
    "    stars_final_list.append(match_2[0])\n",
    "stars_final_list"
   ]
  },
  {
   "cell_type": "code",
   "execution_count": 295,
   "metadata": {},
   "outputs": [
    {
     "name": "stdout",
     "output_type": "stream",
     "text": [
      "['business-attribute price-range\">$$</span>', 'business-attribute price-range\">$$</span>', 'business-attribute price-range\">$$</span>', 'business-attribute price-range\">$$</span>', 'business-attribute price-range\">$$</span>', 'business-attribute price-range\">$$</span>', 'business-attribute price-range\">$$</span>', 'business-attribute price-range\">$$</span>', 'business-attribute price-range\">$$</span>', 'business-attribute price-range\">$$</span>', 'business-attribute price-range\">$$</span>', 'business-attribute price-range\">$</span>', 'business-attribute price-range\">$$</span>']\n"
     ]
    },
    {
     "data": {
      "text/plain": [
       "['$$', '$$', '$$', '$$', '$$', '$$', '$$', '$$', '$$', '$', '$$']"
      ]
     },
     "execution_count": 295,
     "metadata": {},
     "output_type": "execute_result"
    }
   ],
   "source": [
    "#creating list of prices\n",
    "import re\n",
    "\n",
    "#string = '''<span class=\"business-attribute price-range\">$$</span>'''\n",
    "string = yelp_html\n",
    "regex_1 = \"business-attribute price-range.*\"\n",
    "regex_2 = \"\\$+\"\n",
    "string_2 = 'business-attribute price-range\">$$</span>'\n",
    "match_1 = re.findall(regex_1, string)\n",
    "#match_2 = re.findall(regex_2, string_2)\n",
    "\n",
    "#print(match_1b)\n",
    "print(match_1)\n",
    "#print(match_2)\n",
    "#print(match_2)\n",
    "prices_final_list = []\n",
    "for item in match_1[2:len(match_1)]:\n",
    "    match_2 = re.findall(regex_2, item)\n",
    "    prices_final_list.append(match_2[0])\n",
    "prices_final_list"
   ]
  },
  {
   "cell_type": "code",
   "execution_count": 296,
   "metadata": {},
   "outputs": [
    {
     "name": "stdout",
     "output_type": "stream",
     "text": [
      "['$$$']\n"
     ]
    }
   ],
   "source": [
    "string_t = '567$$$'\n",
    "regex_t = '\\$+'\n",
    "match_test = re.findall(regex_t, string_t)\n",
    "print(match_test)"
   ]
  },
  {
   "cell_type": "code",
   "execution_count": 297,
   "metadata": {
    "collapsed": true
   },
   "outputs": [],
   "source": [
    "#rankings[i]['name']: The name of the restaurant, a string.\n",
    "#rankings[i]['stars']: The star rating, as a string, e.g., '4.5', '4.0'\n",
    "#rankings[i]['numrevs']: The number of reviews, as an integer.\n",
    "#rankings[i]['price']: The price range, as dollar signs, e.g., '$', '$$', '$$$', or '$$$$'."
   ]
  },
  {
   "cell_type": "code",
   "execution_count": 298,
   "metadata": {},
   "outputs": [
    {
     "data": {
      "text/plain": [
       "[{'name': 'Gus’s World Famous Fried Chicken',\n",
       "  'stars': '4.0',\n",
       "  'numrevs': 549,\n",
       "  'price': '$$'},\n",
       " {'name': 'South City Kitchen - Midtown',\n",
       "  'stars': '4.5',\n",
       "  'numrevs': 1777,\n",
       "  'price': '$$'},\n",
       " {'name': 'Mary Mac’s Tea Room',\n",
       "  'stars': '4.0',\n",
       "  'numrevs': 2241,\n",
       "  'price': '$$'},\n",
       " {'name': 'Busy Bee Cafe', 'stars': '4.0', 'numrevs': 481, 'price': '$$'},\n",
       " {'name': 'Richards’ Southern Fried',\n",
       "  'stars': '4.0',\n",
       "  'numrevs': 108,\n",
       "  'price': '$$'},\n",
       " {'name': 'Greens & Gravy', 'stars': '3.5', 'numrevs': 93, 'price': '$$'},\n",
       " {'name': 'Colonnade Restaurant',\n",
       "  'stars': '4.0',\n",
       "  'numrevs': 350,\n",
       "  'price': '$$'},\n",
       " {'name': 'South City Kitchen Buckhead',\n",
       "  'stars': '4.5',\n",
       "  'numrevs': 248,\n",
       "  'price': '$$'},\n",
       " {'name': 'Poor Calvin’s', 'stars': '4.5', 'numrevs': 1558, 'price': '$$'},\n",
       " {'name': 'Rock’s Chicken & Fries',\n",
       "  'stars': '4.0',\n",
       "  'numrevs': 67,\n",
       "  'price': '$'},\n",
       " {'name': 'Copeland’s', 'stars': '3.5', 'numrevs': 288, 'price': '$$'}]"
      ]
     },
     "execution_count": 298,
     "metadata": {},
     "output_type": "execute_result"
    }
   ],
   "source": [
    "#names list: names_final_list\n",
    "#stars list: stars_final_list\n",
    "#reviews list: reviews_final_list\n",
    "#price list: prices_final_list\n",
    "rankings = [{'name': n, 'stars': s, 'numrevs': r, 'price': p} for n,s,r,p in \n",
    "               zip(names_final_list, stars_final_list, reviews_final_list, prices_final_list)]\n",
    "rankings"
   ]
  },
  {
   "cell_type": "code",
   "execution_count": 299,
   "metadata": {},
   "outputs": [
    {
     "data": {
      "text/plain": [
       "{'name': 'Gus’s World Famous Fried Chicken',\n",
       " 'stars': '4.0',\n",
       " 'numrevs': 549,\n",
       " 'price': '$$'}"
      ]
     },
     "execution_count": 299,
     "metadata": {},
     "output_type": "execute_result"
    }
   ],
   "source": [
    "rankings[0]"
   ]
  },
  {
   "cell_type": "code",
   "execution_count": 300,
   "metadata": {
    "nbgrader": {
     "grade": false,
     "grade_id": "rankings",
     "locked": false,
     "schema_version": 1,
     "solution": true
    },
    "scrolled": true
   },
   "outputs": [],
   "source": [
    "assert rankings[0] == {'numrevs': 549, 'name': 'Gus’s World Famous Fried Chicken', 'stars': '4.0', 'price': '$$'}"
   ]
  },
  {
   "cell_type": "code",
   "execution_count": null,
   "metadata": {
    "collapsed": true
   },
   "outputs": [],
   "source": []
  },
  {
   "cell_type": "code",
   "execution_count": 301,
   "metadata": {
    "deletable": false,
    "editable": false,
    "nbgrader": {
     "grade": true,
     "grade_id": "rankings_test",
     "locked": true,
     "points": 5,
     "schema_version": 1,
     "solution": false
    }
   },
   "outputs": [
    {
     "name": "stdout",
     "output_type": "stream",
     "text": [
      "=== Rankings ===\n",
      "1. Gus’s World Famous Fried Chicken ($$): 4.0 stars based on 549 reviews\n",
      "2. South City Kitchen - Midtown ($$): 4.5 stars based on 1777 reviews\n",
      "3. Mary Mac’s Tea Room ($$): 4.0 stars based on 2241 reviews\n",
      "4. Busy Bee Cafe ($$): 4.0 stars based on 481 reviews\n",
      "5. Richards’ Southern Fried ($$): 4.0 stars based on 108 reviews\n",
      "6. Greens & Gravy ($$): 3.5 stars based on 93 reviews\n",
      "7. Colonnade Restaurant ($$): 4.0 stars based on 350 reviews\n",
      "8. South City Kitchen Buckhead ($$): 4.5 stars based on 248 reviews\n",
      "9. Poor Calvin’s ($$): 4.5 stars based on 1558 reviews\n",
      "10. Rock’s Chicken & Fries ($): 4.0 stars based on 67 reviews\n",
      "11. Copeland’s ($$): 3.5 stars based on 288 reviews\n",
      "\n",
      "(Passed!)\n"
     ]
    }
   ],
   "source": [
    "# Test cell: `rankings_test`\n",
    "\n",
    "assert type(rankings) is list, \"`rankings` must be a list\"\n",
    "assert all([type(r) is dict for r in rankings]), \"All `rankings[i]` must be dictionaries\"\n",
    "\n",
    "print(\"=== Rankings ===\")\n",
    "for i, r in enumerate(rankings):\n",
    "    print(\"{}. {} ({}): {} stars based on {} reviews\".format(i+1,\n",
    "                                                             r['name'],\n",
    "                                                             r['price'],\n",
    "                                                             r['stars'],\n",
    "                                                             r['numrevs']))\n",
    "\n",
    "assert rankings[0] == {'numrevs': 549, 'name': 'Gus’s World Famous Fried Chicken', 'stars': '4.0', 'price': '$$'} \\\n",
    "       or rankings[0] == {'numrevs': 549, 'name': 'Gus&#39;s World Famous Fried Chicken', 'stars': '4.0', 'price': '$$'}\n",
    "assert rankings[1] == {'numrevs': 1777, 'name': 'South City Kitchen - Midtown', 'stars': '4.5', 'price': '$$'}\n",
    "assert rankings[2] == {'numrevs': 2241, 'name': 'Mary Mac’s Tea Room', 'stars': '4.0', 'price': '$$'} \\\n",
    "       or rankings[2] == {'numrevs': 2241, 'name': 'Mary Mac&#39;s Tea Room', 'stars': '4.0', 'price': '$$'}\n",
    "assert rankings[3] == {'numrevs': 481, 'name': 'Busy Bee Cafe', 'stars': '4.0', 'price': '$$'}\n",
    "assert rankings[4] == {'numrevs': 108, 'name': 'Richards’ Southern Fried', 'stars': '4.0', 'price': '$$'} \\\n",
    "       or rankings[4] == {'numrevs': 108, 'name': 'Richards&#39; Southern Fried', 'stars': '4.0', 'price': '$$'}\n",
    "assert rankings[5] == {'numrevs': 93, 'name': 'Greens &amp; Gravy', 'stars': '3.5', 'price': '$$'} \\\n",
    "       or rankings[5] == {'numrevs': 93, 'name': 'Greens & Gravy', 'stars': '3.5', 'price': '$$'}\n",
    "assert rankings[6] == {'numrevs': 350, 'name': 'Colonnade Restaurant', 'stars': '4.0', 'price': '$$'}\n",
    "assert rankings[7] == {'numrevs': 248, 'name': 'South City Kitchen Buckhead', 'stars': '4.5', 'price': '$$'}\n",
    "assert rankings[8] == {'numrevs': 1558, 'name': 'Poor Calvin’s', 'stars': '4.5', 'price': '$$'} \\\n",
    "       or rankings[8] == {'numrevs': 1558, 'name': 'Poor Calvin&#39;s', 'stars': '4.5', 'price': '$$'}\n",
    "assert rankings[9] == {'numrevs': 67, 'name': 'Rock’s Chicken &amp; Fries', 'stars': '4.0', 'price': '$'} \\\n",
    "       or rankings[9] == {'numrevs': 67, 'name': 'Rock&#39;s Chicken &amp; Fries', 'stars': '4.0', 'price': '$'} \\\n",
    "       or rankings[9] == {'numrevs': 67, 'name': 'Rock&#39;s Chicken & Fries', 'stars': '4.0', 'price': '$'} \\\n",
    "       or rankings[9] == {'numrevs': 67, 'name': 'Rock’s Chicken & Fries', 'stars': '4.0', 'price': '$'}\n",
    "\n",
    "print(\"\\n(Passed!)\")"
   ]
  },
  {
   "cell_type": "markdown",
   "metadata": {
    "collapsed": true,
    "deletable": false,
    "editable": false,
    "nbgrader": {
     "grade": false,
     "grade_id": "cell-b3bde66e454dc063",
     "locked": true,
     "schema_version": 1,
     "solution": false
    }
   },
   "source": [
    "**Fin!** This cell marks the end of Part 1. Don't forget to save, restart and rerun all cells, and submit it. When you are done, proceed to Part 2."
   ]
  }
 ],
 "metadata": {
  "celltoolbar": "Create Assignment",
  "kernelspec": {
   "display_name": "Python 3.8",
   "language": "python",
   "name": "python38"
  },
  "language_info": {
   "codemirror_mode": {
    "name": "ipython",
    "version": 3
   },
   "file_extension": ".py",
   "mimetype": "text/x-python",
   "name": "python",
   "nbconvert_exporter": "python",
   "pygments_lexer": "ipython3",
   "version": "3.8.7"
  }
 },
 "nbformat": 4,
 "nbformat_minor": 1
}
